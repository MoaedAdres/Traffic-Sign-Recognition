{
 "cells": [
  {
   "cell_type": "markdown",
   "id": "5a1cf049",
   "metadata": {},
   "source": [
    "#################import the needed library###############"
   ]
  },
  {
   "cell_type": "code",
   "execution_count": 1,
   "id": "f70f01a7",
   "metadata": {},
   "outputs": [],
   "source": [
    "import numpy as np\n",
    "import matplotlib.pyplot as plt\n",
    "from keras.models import Sequential\n",
    "from keras.layers import Dense\n",
    "from tensorflow.keras.optimizers import Adam\n",
    "from keras.utils.np_utils import to_categorical\n",
    "from keras.layers import Dropout, Flatten\n",
    "from keras.layers.convolutional import Conv2D, MaxPooling2D, AveragePooling2D\n",
    "import cv2\n",
    "from sklearn.model_selection import train_test_split\n",
    "import os\n",
    "import pandas as pd\n",
    "from keras.preprocessing.image import ImageDataGenerator"
   ]
  },
  {
   "cell_type": "markdown",
   "id": "9aea7fa8",
   "metadata": {},
   "source": [
    "################# Parameters #####################"
   ]
  },
  {
   "cell_type": "code",
   "execution_count": 11,
   "id": "6159c5fb",
   "metadata": {},
   "outputs": [],
   "source": [
    "path = \"myData\"  # folder with all the class folders\n",
    "labelFile = 'labels.csv'  # file with all names of classes\n",
    "batch_size_val = 50  \n",
    "epochs_val = 80\n",
    "imageDimesions = (32, 32, 3)\n",
    "testRatio = 0.2 \n",
    "validationRatio = 0.2"
   ]
  },
  {
   "cell_type": "markdown",
   "id": "45deb21e",
   "metadata": {},
   "source": [
    "############################### Importing of the Images ##########################\n",
    "here we are reading the dataset folder and gives evey image the right classe"
   ]
  },
  {
   "cell_type": "code",
   "execution_count": 50,
   "id": "95fe67dd",
   "metadata": {},
   "outputs": [
    {
     "name": "stdout",
     "output_type": "stream",
     "text": [
      "Total Classes Detected: 43\n",
      "Importing Classes.....\n",
      "0 1 2 3 4 5 6 7 8 9 10 11 12 13 14 15 16 17 18 19 20 21 22 23 24 25 26 27 28 29 30 31 32 33 34 35 36 37 38 39 40 41 42  \n"
     ]
    }
   ],
   "source": [
    "count = 0\n",
    "images= []\n",
    "classNo = []\n",
    "myList = os.listdir(path)\n",
    "print(\"Total Classes Detected:\", len(myList))\n",
    "noOfClasses = len(myList)\n",
    "print(\"Importing Classes.....\")\n",
    "for x in range(0, len(myList)):\n",
    "    myPicList = os.listdir(path + \"/\" + str(count))\n",
    "    for y in myPicList:\n",
    "        curImg = cv2.imread(path + \"/\" + str(count) + \"/\" + y)\n",
    "        images.append(curImg)\n",
    "        classNo.append(count)\n",
    "    print(count, end=\" \")\n",
    "    count += 1\n",
    "print(\" \")\n",
    "images = np.array(images)\n",
    "classNo = np.array(classNo)\n"
   ]
  },
  {
   "cell_type": "markdown",
   "id": "5f927e94",
   "metadata": {},
   "source": [
    "############################### Split Data ##################################"
   ]
  },
  {
   "cell_type": "code",
   "execution_count": 60,
   "id": "77799501",
   "metadata": {},
   "outputs": [
    {
     "data": {
      "text/plain": [
       "(34799, 32, 32, 3)"
      ]
     },
     "execution_count": 60,
     "metadata": {},
     "output_type": "execute_result"
    }
   ],
   "source": [
    "images.shape"
   ]
  },
  {
   "cell_type": "code",
   "execution_count": 51,
   "id": "7c80a0e8",
   "metadata": {},
   "outputs": [],
   "source": [
    "X_train, X_test, y_train, y_test = train_test_split(images, classNo, test_size=testRatio)\n",
    "X_train, X_validation, y_train, y_validation = train_test_split(X_train, y_train, test_size=validationRatio)"
   ]
  },
  {
   "cell_type": "markdown",
   "id": "67fd1ba4",
   "metadata": {},
   "source": [
    "############################### TO CHECK IF NUMBER OF IMAGES MATCHES TO NUMBER OF LABELS FOR EACH DATA SET #############################"
   ]
  },
  {
   "cell_type": "code",
   "execution_count": 52,
   "id": "22e81ede",
   "metadata": {},
   "outputs": [
    {
     "name": "stdout",
     "output_type": "stream",
     "text": [
      "Data Shapes\n",
      "Train(22271, 32, 32, 3) (22271,)\n",
      "Validation(5568, 32, 32, 3) (5568,)\n",
      "Test(6960, 32, 32, 3) (6960,)\n"
     ]
    }
   ],
   "source": [
    "print(\"Data Shapes\")\n",
    "print(\"Train\", end=\"\");\n",
    "print(X_train.shape, y_train.shape)\n",
    "print(\"Validation\", end=\"\");\n",
    "print(X_validation.shape, y_validation.shape)\n",
    "print(\"Test\", end=\"\");\n",
    "print(X_test.shape, y_test.shape)\n"
   ]
  },
  {
   "cell_type": "markdown",
   "id": "27bd237f",
   "metadata": {},
   "source": [
    "############################### READ CSV FILE ######################"
   ]
  },
  {
   "cell_type": "code",
   "execution_count": 53,
   "id": "a3bb2e81",
   "metadata": {},
   "outputs": [
    {
     "name": "stdout",
     "output_type": "stream",
     "text": [
      "data shape  (43, 2) <class 'pandas.core.frame.DataFrame'>\n"
     ]
    }
   ],
   "source": [
    "data=pd.read_csv(labelFile)\n",
    "print(\"data shape \", data.shape, type(data))"
   ]
  },
  {
   "cell_type": "markdown",
   "id": "a7335f2f",
   "metadata": {},
   "source": [
    "############################### PREPROCESSING THE IMAGES ######################"
   ]
  },
  {
   "cell_type": "code",
   "execution_count": 54,
   "id": "33be439d",
   "metadata": {},
   "outputs": [],
   "source": [
    "def grayscale(img):\n",
    "    img = cv2.cvtColor(img,cv2.COLOR_BGR2GRAY)\n",
    "    return img\n",
    "def equalize(img):\n",
    "    img = cv2.equalizeHist(img)\n",
    "    return img\n",
    "def preprocessing(img):\n",
    "    img = grayscale(img)  # CONVERT TO GRAYSCALE\n",
    "    img = equalize(img)  # STANDARDIZE THE LIGHTING IN AN IMAGE\n",
    "    img = img / 255  # TO NORMALIZE VALUES BETWEEN 0 AND 1 INSTEAD OF 0 TO 255\n",
    "    return img"
   ]
  },
  {
   "cell_type": "code",
   "execution_count": 55,
   "id": "3f409bda",
   "metadata": {},
   "outputs": [],
   "source": [
    "X_train = np.array(list(map(preprocessing, X_train)))  # TO IRETATE AND PREPROCESS ALL IMAGES\n",
    "X_validation = np.array(list(map(preprocessing, X_validation)))\n",
    "X_test = np.array(list(map(preprocessing, X_test)))"
   ]
  },
  {
   "cell_type": "code",
   "execution_count": 56,
   "id": "16b0cffd",
   "metadata": {},
   "outputs": [
    {
     "name": "stdout",
     "output_type": "stream",
     "text": [
      "(22271, 32, 32)\n"
     ]
    }
   ],
   "source": [
    "print(X_train.shape)"
   ]
  },
  {
   "cell_type": "code",
   "execution_count": 57,
   "id": "1e72806d",
   "metadata": {},
   "outputs": [],
   "source": [
    "X_train = X_train.reshape(X_train.shape[0],X_train.shape[1],X_train.shape[2],1)\n",
    "X_validation = X_validation.reshape(X_validation.shape[0],X_validation.shape[1],X_validation.shape[2],1)\n",
    "X_test = X_test.reshape(X_test.shape[0],X_test.shape[1],X_test.shape[2],1)"
   ]
  },
  {
   "cell_type": "code",
   "execution_count": 58,
   "id": "8a79ec56",
   "metadata": {},
   "outputs": [
    {
     "name": "stdout",
     "output_type": "stream",
     "text": [
      "(22271, 32, 32, 1)\n"
     ]
    }
   ],
   "source": [
    "print(X_train.shape)"
   ]
  },
  {
   "cell_type": "markdown",
   "id": "34747e55",
   "metadata": {},
   "source": [
    "###################################### AUGMENTATAION OF IMAGES TO MAKE IT MORE GENERIC ##############"
   ]
  },
  {
   "cell_type": "code",
   "execution_count": 16,
   "id": "d23533a0",
   "metadata": {},
   "outputs": [],
   "source": [
    "dataGen = ImageDataGenerator(width_shift_range=0.1,    # 0.1 = 10%     IF MORE THAN 1 E.G 10 THEN IT REFFERS TO NO. OF  PIXELS EG 10 PIXELS\n",
    "                             height_shift_range=0.1,\n",
    "                             zoom_range=0.2,  # 0.2 MEANS CAN GO FROM 0.8 TO 1.2\n",
    "                             shear_range=0.1,  # MAGNITUDE OF SHEAR ANGLE\n",
    "                             rotation_range=10)  # DEGREES\n",
    "dataGen.fit(X_train)\n",
    "\n",
    "y_train = to_categorical(y_train, noOfClasses)\n",
    "y_validation = to_categorical(y_validation, noOfClasses)\n",
    "y_test = to_categorical(y_test, noOfClasses)"
   ]
  },
  {
   "cell_type": "markdown",
   "id": "810f0ed9",
   "metadata": {},
   "source": [
    "############################### CONVOLUTION NEURAL NETWORK MODEL#####################"
   ]
  },
  {
   "cell_type": "code",
   "execution_count": 17,
   "id": "d76e1822",
   "metadata": {},
   "outputs": [],
   "source": [
    "def myModel():\n",
    "    no_Of_Filters = 60\n",
    "    size_of_Filter = (5, 5) \n",
    "                            \n",
    "    size_of_Filter2 = (3, 3)\n",
    "    size_of_pool = (2, 2) \n",
    "    no_Of_Nodes = 500 \n",
    "    model = Sequential()\n",
    "    model.add((Conv2D(no_Of_Filters,size_of_Filter,input_shape=(imageDimesions[0],imageDimesions[1],1),activation='relu')))\n",
    "    \n",
    "    model.add((Conv2D(no_Of_Filters,size_of_Filter,activation='relu')))\n",
    "    \n",
    "#   model.add(AveragePooling2D(pool_size=size_of_pool))\n",
    "    model.add(MaxPooling2D(pool_size=size_of_pool))\n",
    "\n",
    "    model.add((Conv2D(no_Of_Filters//2, size_of_Filter2,activation='relu')))\n",
    "    \n",
    "    model.add((Conv2D(no_Of_Filters//2,size_of_Filter2,activation='relu')))\n",
    "    \n",
    "#   model.add(AveragePooling2D(pool_size=size_of_pool))\n",
    "    model.add(MaxPooling2D(pool_size=size_of_pool))\n",
    "    \n",
    "    model.add(Dropout(0.5))\n",
    "    #model.add(Dropout(0.2))\n",
    "\n",
    "    model.add(Flatten())\n",
    "    \n",
    "    model.add(Dense(no_Of_Nodes,activation='relu'))\n",
    "    \n",
    "    model.add(Dropout(0.5))\n",
    "    #model.add(Dropout(0.2))\n",
    "    \n",
    "    model.add(Dense(noOfClasses,activation='softmax'))\n",
    "\n",
    "    model.compile(Adam(lr=0.001),loss='categorical_crossentropy',metrics=['accuracy'])\n",
    "    return model"
   ]
  },
  {
   "cell_type": "markdown",
   "id": "62c9c7cc",
   "metadata": {},
   "source": [
    "############################### TRAIN ########################"
   ]
  },
  {
   "cell_type": "code",
   "execution_count": 15,
   "id": "a1042bb2",
   "metadata": {
    "scrolled": true
   },
   "outputs": [
    {
     "name": "stdout",
     "output_type": "stream",
     "text": [
      "Model: \"sequential\"\n",
      "_________________________________________________________________\n",
      "Layer (type)                 Output Shape              Param #   \n",
      "=================================================================\n",
      "conv2d (Conv2D)              (None, 28, 28, 60)        1560      \n",
      "_________________________________________________________________\n",
      "conv2d_1 (Conv2D)            (None, 24, 24, 60)        90060     \n",
      "_________________________________________________________________\n",
      "max_pooling2d (MaxPooling2D) (None, 12, 12, 60)        0         \n",
      "_________________________________________________________________\n",
      "conv2d_2 (Conv2D)            (None, 10, 10, 30)        16230     \n",
      "_________________________________________________________________\n",
      "conv2d_3 (Conv2D)            (None, 8, 8, 30)          8130      \n",
      "_________________________________________________________________\n",
      "max_pooling2d_1 (MaxPooling2 (None, 4, 4, 30)          0         \n",
      "_________________________________________________________________\n",
      "dropout (Dropout)            (None, 4, 4, 30)          0         \n",
      "_________________________________________________________________\n",
      "flatten (Flatten)            (None, 480)               0         \n",
      "_________________________________________________________________\n",
      "dense (Dense)                (None, 500)               240500    \n",
      "_________________________________________________________________\n",
      "dropout_1 (Dropout)          (None, 500)               0         \n",
      "_________________________________________________________________\n",
      "dense_1 (Dense)              (None, 43)                21543     \n",
      "=================================================================\n",
      "Total params: 378,023\n",
      "Trainable params: 378,023\n",
      "Non-trainable params: 0\n",
      "_________________________________________________________________\n",
      "None\n",
      "Epoch 1/80\n",
      "446/445 [==============================] - 83s 187ms/step - loss: 2.5063 - accuracy: 0.3047 - val_loss: 0.8870 - val_accuracy: 0.7804\n",
      "Epoch 2/80\n",
      "446/445 [==============================] - 79s 178ms/step - loss: 1.2922 - accuracy: 0.6024 - val_loss: 0.3438 - val_accuracy: 0.9077\n",
      "Epoch 3/80\n",
      "446/445 [==============================] - 75s 168ms/step - loss: 0.8946 - accuracy: 0.7213 - val_loss: 0.1894 - val_accuracy: 0.9538\n",
      "Epoch 4/80\n",
      "446/445 [==============================] - 77s 172ms/step - loss: 0.6847 - accuracy: 0.7894 - val_loss: 0.1497 - val_accuracy: 0.9564\n",
      "Epoch 5/80\n",
      "446/445 [==============================] - 75s 169ms/step - loss: 0.5666 - accuracy: 0.8213 - val_loss: 0.1088 - val_accuracy: 0.9668\n",
      "Epoch 6/80\n",
      "446/445 [==============================] - 81s 181ms/step - loss: 0.4754 - accuracy: 0.8529 - val_loss: 0.0777 - val_accuracy: 0.9810\n",
      "Epoch 7/80\n",
      "446/445 [==============================] - 75s 169ms/step - loss: 0.4166 - accuracy: 0.8710 - val_loss: 0.0860 - val_accuracy: 0.9801\n",
      "Epoch 8/80\n",
      "446/445 [==============================] - 76s 170ms/step - loss: 0.3863 - accuracy: 0.8791 - val_loss: 0.0540 - val_accuracy: 0.9876\n",
      "Epoch 9/80\n",
      "446/445 [==============================] - 77s 172ms/step - loss: 0.3294 - accuracy: 0.8954 - val_loss: 0.0575 - val_accuracy: 0.9855\n",
      "Epoch 10/80\n",
      "446/445 [==============================] - 77s 172ms/step - loss: 0.3203 - accuracy: 0.8999 - val_loss: 0.0607 - val_accuracy: 0.9847\n",
      "Epoch 11/80\n",
      "446/445 [==============================] - 78s 175ms/step - loss: 0.2953 - accuracy: 0.9083 - val_loss: 0.0488 - val_accuracy: 0.9871\n",
      "Epoch 12/80\n",
      "446/445 [==============================] - 76s 170ms/step - loss: 0.2809 - accuracy: 0.9149 - val_loss: 0.0443 - val_accuracy: 0.9860\n",
      "Epoch 13/80\n",
      "446/445 [==============================] - 77s 172ms/step - loss: 0.2644 - accuracy: 0.9164 - val_loss: 0.0540 - val_accuracy: 0.9822\n",
      "Epoch 14/80\n",
      "446/445 [==============================] - 77s 173ms/step - loss: 0.2424 - accuracy: 0.9249 - val_loss: 0.0495 - val_accuracy: 0.9871\n",
      "Epoch 15/80\n",
      "446/445 [==============================] - 76s 171ms/step - loss: 0.2316 - accuracy: 0.9267 - val_loss: 0.0310 - val_accuracy: 0.9930\n",
      "Epoch 16/80\n",
      "446/445 [==============================] - 77s 172ms/step - loss: 0.2236 - accuracy: 0.9314 - val_loss: 0.0272 - val_accuracy: 0.9932\n",
      "Epoch 17/80\n",
      "446/445 [==============================] - 76s 170ms/step - loss: 0.2021 - accuracy: 0.9352 - val_loss: 0.0254 - val_accuracy: 0.9948\n",
      "Epoch 18/80\n",
      "446/445 [==============================] - 86s 194ms/step - loss: 0.2091 - accuracy: 0.9342 - val_loss: 0.0606 - val_accuracy: 0.9811\n",
      "Epoch 19/80\n",
      "446/445 [==============================] - 76s 169ms/step - loss: 0.2062 - accuracy: 0.9351 - val_loss: 0.0347 - val_accuracy: 0.9910\n",
      "Epoch 20/80\n",
      "446/445 [==============================] - 76s 170ms/step - loss: 0.1900 - accuracy: 0.9402 - val_loss: 0.0218 - val_accuracy: 0.9952\n",
      "Epoch 21/80\n",
      "446/445 [==============================] - 131s 294ms/step - loss: 0.2034 - accuracy: 0.9388 - val_loss: 0.0275 - val_accuracy: 0.9925\n",
      "Epoch 22/80\n",
      "446/445 [==============================] - 112s 251ms/step - loss: 0.1805 - accuracy: 0.9434 - val_loss: 0.0229 - val_accuracy: 0.9939\n",
      "Epoch 23/80\n",
      "446/445 [==============================] - 106s 238ms/step - loss: 0.1760 - accuracy: 0.9451 - val_loss: 0.0243 - val_accuracy: 0.9939\n",
      "Epoch 24/80\n",
      "446/445 [==============================] - 102s 229ms/step - loss: 0.1738 - accuracy: 0.9464 - val_loss: 0.0237 - val_accuracy: 0.9935\n",
      "Epoch 25/80\n",
      "446/445 [==============================] - 92s 206ms/step - loss: 0.1649 - accuracy: 0.9496 - val_loss: 0.0183 - val_accuracy: 0.9959\n",
      "Epoch 26/80\n",
      "446/445 [==============================] - 85s 191ms/step - loss: 0.1733 - accuracy: 0.9464 - val_loss: 0.0417 - val_accuracy: 0.9862\n",
      "Epoch 27/80\n",
      "446/445 [==============================] - 80s 178ms/step - loss: 0.1714 - accuracy: 0.9478 - val_loss: 0.0219 - val_accuracy: 0.9946\n",
      "Epoch 28/80\n",
      "446/445 [==============================] - 86s 193ms/step - loss: 0.1592 - accuracy: 0.9529 - val_loss: 0.0301 - val_accuracy: 0.9916\n",
      "Epoch 29/80\n",
      "446/445 [==============================] - 82s 184ms/step - loss: 0.1538 - accuracy: 0.9525 - val_loss: 0.0251 - val_accuracy: 0.9932\n",
      "Epoch 30/80\n",
      "446/445 [==============================] - 87s 195ms/step - loss: 0.1523 - accuracy: 0.9544 - val_loss: 0.0165 - val_accuracy: 0.9957\n",
      "Epoch 31/80\n",
      "446/445 [==============================] - 135s 302ms/step - loss: 0.1541 - accuracy: 0.9516 - val_loss: 0.0232 - val_accuracy: 0.9937\n",
      "Epoch 32/80\n",
      "446/445 [==============================] - 102s 230ms/step - loss: 0.1478 - accuracy: 0.9544 - val_loss: 0.0233 - val_accuracy: 0.9930\n",
      "Epoch 33/80\n",
      "446/445 [==============================] - 104s 232ms/step - loss: 0.1492 - accuracy: 0.9551 - val_loss: 0.0231 - val_accuracy: 0.9941\n",
      "Epoch 34/80\n",
      "446/445 [==============================] - 92s 206ms/step - loss: 0.1443 - accuracy: 0.9562 - val_loss: 0.0377 - val_accuracy: 0.9881\n",
      "Epoch 35/80\n",
      "446/445 [==============================] - 95s 212ms/step - loss: 0.1342 - accuracy: 0.9586 - val_loss: 0.0269 - val_accuracy: 0.9917\n",
      "Epoch 36/80\n",
      "446/445 [==============================] - 84s 189ms/step - loss: 0.1469 - accuracy: 0.9559 - val_loss: 0.0220 - val_accuracy: 0.9943\n",
      "Epoch 37/80\n",
      "446/445 [==============================] - 83s 186ms/step - loss: 0.1409 - accuracy: 0.9573 - val_loss: 0.0167 - val_accuracy: 0.9962\n",
      "Epoch 38/80\n",
      "446/445 [==============================] - 84s 188ms/step - loss: 0.1377 - accuracy: 0.9582 - val_loss: 0.0143 - val_accuracy: 0.9966\n",
      "Epoch 39/80\n",
      "446/445 [==============================] - 84s 189ms/step - loss: 0.1301 - accuracy: 0.9595 - val_loss: 0.0169 - val_accuracy: 0.9952\n",
      "Epoch 40/80\n",
      "446/445 [==============================] - 84s 189ms/step - loss: 0.1315 - accuracy: 0.9599 - val_loss: 0.0153 - val_accuracy: 0.9964\n",
      "Epoch 41/80\n",
      "446/445 [==============================] - 89s 199ms/step - loss: 0.1257 - accuracy: 0.9611 - val_loss: 0.0142 - val_accuracy: 0.9953\n",
      "Epoch 42/80\n",
      "446/445 [==============================] - 85s 191ms/step - loss: 0.1283 - accuracy: 0.9604 - val_loss: 0.0181 - val_accuracy: 0.9952\n",
      "Epoch 43/80\n",
      "446/445 [==============================] - 84s 188ms/step - loss: 0.1377 - accuracy: 0.9589 - val_loss: 0.0374 - val_accuracy: 0.9899\n",
      "Epoch 44/80\n",
      "446/445 [==============================] - 79s 177ms/step - loss: 0.1299 - accuracy: 0.9604 - val_loss: 0.0176 - val_accuracy: 0.9959\n"
     ]
    },
    {
     "name": "stdout",
     "output_type": "stream",
     "text": [
      "Epoch 45/80\n",
      "446/445 [==============================] - 80s 179ms/step - loss: 0.1193 - accuracy: 0.9633 - val_loss: 0.0221 - val_accuracy: 0.9937\n",
      "Epoch 46/80\n",
      "446/445 [==============================] - 79s 176ms/step - loss: 0.1234 - accuracy: 0.9625 - val_loss: 0.0150 - val_accuracy: 0.9960\n",
      "Epoch 47/80\n",
      "446/445 [==============================] - 78s 175ms/step - loss: 0.1254 - accuracy: 0.9620 - val_loss: 0.0140 - val_accuracy: 0.9966\n",
      "Epoch 48/80\n",
      "446/445 [==============================] - 78s 174ms/step - loss: 0.1181 - accuracy: 0.9642 - val_loss: 0.0134 - val_accuracy: 0.9973\n",
      "Epoch 49/80\n",
      "446/445 [==============================] - 77s 173ms/step - loss: 0.1220 - accuracy: 0.9626 - val_loss: 0.0225 - val_accuracy: 0.9943\n",
      "Epoch 50/80\n",
      "446/445 [==============================] - 77s 173ms/step - loss: 0.1205 - accuracy: 0.9644 - val_loss: 0.0149 - val_accuracy: 0.9960\n",
      "Epoch 51/80\n",
      "446/445 [==============================] - 77s 173ms/step - loss: 0.1170 - accuracy: 0.9648 - val_loss: 0.0257 - val_accuracy: 0.9930\n",
      "Epoch 52/80\n",
      "446/445 [==============================] - 78s 174ms/step - loss: 0.1199 - accuracy: 0.9646 - val_loss: 0.0177 - val_accuracy: 0.9952\n",
      "Epoch 53/80\n",
      "446/445 [==============================] - 78s 174ms/step - loss: 0.1182 - accuracy: 0.9651 - val_loss: 0.0206 - val_accuracy: 0.9955\n",
      "Epoch 54/80\n",
      "446/445 [==============================] - 78s 176ms/step - loss: 0.1186 - accuracy: 0.9653 - val_loss: 0.0153 - val_accuracy: 0.9964\n",
      "Epoch 55/80\n",
      "446/445 [==============================] - 77s 173ms/step - loss: 0.1178 - accuracy: 0.9656 - val_loss: 0.0137 - val_accuracy: 0.9964\n",
      "Epoch 56/80\n",
      "446/445 [==============================] - 78s 175ms/step - loss: 0.1121 - accuracy: 0.9670 - val_loss: 0.0279 - val_accuracy: 0.9934\n",
      "Epoch 57/80\n",
      "446/445 [==============================] - 78s 175ms/step - loss: 0.1061 - accuracy: 0.9684 - val_loss: 0.0119 - val_accuracy: 0.9966\n",
      "Epoch 58/80\n",
      "446/445 [==============================] - 101s 226ms/step - loss: 0.1210 - accuracy: 0.9654 - val_loss: 0.0178 - val_accuracy: 0.9960\n",
      "Epoch 59/80\n",
      "446/445 [==============================] - 99s 221ms/step - loss: 0.1163 - accuracy: 0.9670 - val_loss: 0.0265 - val_accuracy: 0.9930\n",
      "Epoch 60/80\n",
      "446/445 [==============================] - 115s 257ms/step - loss: 0.1115 - accuracy: 0.9665 - val_loss: 0.0145 - val_accuracy: 0.9971\n",
      "Epoch 61/80\n",
      "446/445 [==============================] - 80s 180ms/step - loss: 0.1113 - accuracy: 0.9672 - val_loss: 0.0140 - val_accuracy: 0.9971\n",
      "Epoch 62/80\n",
      "446/445 [==============================] - 120s 268ms/step - loss: 0.1117 - accuracy: 0.9674 - val_loss: 0.0107 - val_accuracy: 0.9982\n",
      "Epoch 63/80\n",
      "446/445 [==============================] - 123s 277ms/step - loss: 0.1168 - accuracy: 0.9648 - val_loss: 0.0270 - val_accuracy: 0.9925\n",
      "Epoch 64/80\n",
      "446/445 [==============================] - 81s 182ms/step - loss: 0.1116 - accuracy: 0.9663 - val_loss: 0.0149 - val_accuracy: 0.9966\n",
      "Epoch 65/80\n",
      "446/445 [==============================] - 120s 269ms/step - loss: 0.1035 - accuracy: 0.9691 - val_loss: 0.0163 - val_accuracy: 0.9957\n",
      "Epoch 66/80\n",
      "446/445 [==============================] - 131s 295ms/step - loss: 0.1091 - accuracy: 0.9668 - val_loss: 0.0127 - val_accuracy: 0.9969\n",
      "Epoch 67/80\n",
      "446/445 [==============================] - 125s 281ms/step - loss: 0.1133 - accuracy: 0.9672 - val_loss: 0.0160 - val_accuracy: 0.9960\n",
      "Epoch 68/80\n",
      "446/445 [==============================] - 94s 211ms/step - loss: 0.1003 - accuracy: 0.9698 - val_loss: 0.0115 - val_accuracy: 0.9968\n",
      "Epoch 69/80\n",
      "446/445 [==============================] - 97s 217ms/step - loss: 0.1067 - accuracy: 0.9674 - val_loss: 0.0151 - val_accuracy: 0.9955\n",
      "Epoch 70/80\n",
      "446/445 [==============================] - 96s 214ms/step - loss: 0.1048 - accuracy: 0.9709 - val_loss: 0.0098 - val_accuracy: 0.9969\n",
      "Epoch 71/80\n",
      "446/445 [==============================] - 98s 220ms/step - loss: 0.1050 - accuracy: 0.9685 - val_loss: 0.0137 - val_accuracy: 0.9957\n",
      "Epoch 72/80\n",
      "446/445 [==============================] - 99s 221ms/step - loss: 0.1057 - accuracy: 0.9703 - val_loss: 0.0166 - val_accuracy: 0.9953\n",
      "Epoch 73/80\n",
      "446/445 [==============================] - 95s 213ms/step - loss: 0.1043 - accuracy: 0.9683 - val_loss: 0.0214 - val_accuracy: 0.9948\n",
      "Epoch 74/80\n",
      "446/445 [==============================] - 95s 213ms/step - loss: 0.1058 - accuracy: 0.9696 - val_loss: 0.0151 - val_accuracy: 0.9959\n",
      "Epoch 75/80\n",
      "446/445 [==============================] - 97s 218ms/step - loss: 0.1008 - accuracy: 0.9715 - val_loss: 0.0149 - val_accuracy: 0.9968\n",
      "Epoch 76/80\n",
      "446/445 [==============================] - 97s 218ms/step - loss: 0.1016 - accuracy: 0.9714 - val_loss: 0.0119 - val_accuracy: 0.9964\n",
      "Epoch 77/80\n",
      "446/445 [==============================] - 97s 218ms/step - loss: 0.1014 - accuracy: 0.9700 - val_loss: 0.0143 - val_accuracy: 0.9959\n",
      "Epoch 78/80\n",
      "446/445 [==============================] - 100s 224ms/step - loss: 0.1001 - accuracy: 0.9719 - val_loss: 0.0171 - val_accuracy: 0.9964\n",
      "Epoch 79/80\n",
      "446/445 [==============================] - 101s 226ms/step - loss: 0.1105 - accuracy: 0.9674 - val_loss: 0.0149 - val_accuracy: 0.9962\n",
      "Epoch 80/80\n",
      "446/445 [==============================] - 100s 223ms/step - loss: 0.0990 - accuracy: 0.9706 - val_loss: 0.0232 - val_accuracy: 0.9939\n"
     ]
    }
   ],
   "source": [
    "model = myModel()\n",
    "print(model.summary())\n",
    "history = model.fit(dataGen.flow(X_train,y_train,batch_size=batch_size_val),steps_per_epoch=(len(X_train)/batch_size_val),epochs=epochs_val,validation_data=(X_validation, y_validation), shuffle=1)"
   ]
  },
  {
   "cell_type": "markdown",
   "id": "a8448c78",
   "metadata": {},
   "source": [
    "############################### PLOT ##########################"
   ]
  },
  {
   "cell_type": "code",
   "execution_count": 16,
   "id": "ad413d9c",
   "metadata": {},
   "outputs": [
    {
     "data": {
      "image/png": "[encoded data removed]",
      "text/plain": [
       "<Figure size 432x288 with 1 Axes>"
      ]
     },
     "metadata": {
      "needs_background": "light"
     },
     "output_type": "display_data"
    },
    {
     "data": {
      "image/png": "[encoded data removed]",
      "text/plain": [
       "<Figure size 432x288 with 1 Axes>"
      ]
     },
     "metadata": {
      "needs_background": "light"
     },
     "output_type": "display_data"
    },
    {
     "name": "stdout",
     "output_type": "stream",
     "text": [
      "Test Score: 0.025023043155670166\n",
      "Test Accuracy: 0.9918103218078613\n"
     ]
    }
   ],
   "source": [
    "plt.figure(1)\n",
    "plt.plot(history.history['loss'])\n",
    "plt.plot(history.history['val_loss'])\n",
    "plt.legend(['training','validation'])\n",
    "plt.title('loss')\n",
    "plt.xlabel('epoch')\n",
    "plt.figure(2)\n",
    "plt.plot(history.history['accuracy'])\n",
    "plt.plot(history.history['val_accuracy'])\n",
    "plt.legend(['training','validation'])\n",
    "plt.title('Acurracy')\n",
    "plt.xlabel('epoch')\n",
    "plt.show()\n",
    "score = model.evaluate(X_test, y_test, verbose=0)\n",
    "print('Test Score:', score[0])\n",
    "print('Test Accuracy:', score[1])"
   ]
  },
  {
   "cell_type": "markdown",
   "id": "1fa6be59",
   "metadata": {},
   "source": [
    "########################To Save The Model And Use It Later ############################"
   ]
  },
  {
   "cell_type": "code",
   "execution_count": 17,
   "id": "6e7c8142",
   "metadata": {},
   "outputs": [],
   "source": [
    "model.save('model.h5')"
   ]
  }
 ],
 "metadata": {
  "kernelspec": {
   "display_name": "Python 3 (ipykernel)",
   "language": "python",
   "name": "python3"
  },
  "language_info": {
   "codemirror_mode": {
    "name": "ipython",
    "version": 3
   },
   "file_extension": ".py",
   "mimetype": "text/x-python",
   "name": "python",
   "nbconvert_exporter": "python",
   "pygments_lexer": "ipython3",
   "version": "3.8.12"
  }
 },
 "nbformat": 4,
 "nbformat_minor": 5
}
